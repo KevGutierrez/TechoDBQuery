{
 "cells": [
  {
   "cell_type": "code",
   "execution_count": 3,
   "id": "c38c3636",
   "metadata": {},
   "outputs": [],
   "source": [
    "import pandas as pd\n",
    "\n",
    "#Load the Excel File\n",
    "df = pd.read_excel('LaHondaDB.xlsx', sheet_name='Migración La Honda', engine='openpyxl')\n"
   ]
  },
  {
   "cell_type": "code",
   "execution_count": 4,
   "id": "46185ce8",
   "metadata": {},
   "outputs": [],
   "source": [
    "import sqlite3\n",
    "\n",
    "# Connect to SQLite database (it will be created if it doesn't exist)\n",
    "conn = sqlite3.connect('data.db')\n",
    "\n",
    "# Write the DataFrame to a table named 'records'\n",
    "df.to_sql('records', conn, if_exists='replace', index=False)\n",
    "\n",
    "# Commit changes and close the connection\n",
    "conn.commit()\n",
    "conn.close()"
   ]
  }
 ],
 "metadata": {
  "kernelspec": {
   "display_name": "Python 3",
   "language": "python",
   "name": "python3"
  },
  "language_info": {
   "codemirror_mode": {
    "name": "ipython",
    "version": 3
   },
   "file_extension": ".py",
   "mimetype": "text/x-python",
   "name": "python",
   "nbconvert_exporter": "python",
   "pygments_lexer": "ipython3",
   "version": "3.11.4"
  }
 },
 "nbformat": 4,
 "nbformat_minor": 5
}
